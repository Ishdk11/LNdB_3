{
 "cells": [
  {
   "cell_type": "code",
   "execution_count": 1,
   "metadata": {},
   "outputs": [],
   "source": [
    "import pandas as pd\n",
    "import numpy as np\n",
    "from sklearn.model_selection import train_test_split\n",
    "from sklearn.neighbors import KNeighborsClassifier\n",
    "from sklearn.metrics import accuracy_score, f1_score, confusion_matrix"
   ]
  },
  {
   "cell_type": "code",
   "execution_count": 2,
   "metadata": {},
   "outputs": [
    {
     "data": {
      "text/html": [
       "<div>\n",
       "<style scoped>\n",
       "    .dataframe tbody tr th:only-of-type {\n",
       "        vertical-align: middle;\n",
       "    }\n",
       "\n",
       "    .dataframe tbody tr th {\n",
       "        vertical-align: top;\n",
       "    }\n",
       "\n",
       "    .dataframe thead th {\n",
       "        text-align: right;\n",
       "    }\n",
       "</style>\n",
       "<table border=\"1\" class=\"dataframe\">\n",
       "  <thead>\n",
       "    <tr style=\"text-align: right;\">\n",
       "      <th></th>\n",
       "      <th>lndbId</th>\n",
       "      <th>FindingId</th>\n",
       "      <th>contrast</th>\n",
       "      <th>dissimilarity</th>\n",
       "      <th>energy</th>\n",
       "      <th>homogeneity</th>\n",
       "      <th>correlation</th>\n",
       "      <th>ASM</th>\n",
       "      <th>Nodule</th>\n",
       "      <th>state</th>\n",
       "    </tr>\n",
       "  </thead>\n",
       "  <tbody>\n",
       "    <tr>\n",
       "      <th>0</th>\n",
       "      <td>1</td>\n",
       "      <td>1</td>\n",
       "      <td>14.565517</td>\n",
       "      <td>0.886692</td>\n",
       "      <td>0.606897</td>\n",
       "      <td>0.974756</td>\n",
       "      <td>0.866296</td>\n",
       "      <td>0.786223</td>\n",
       "      <td>1</td>\n",
       "      <td>3</td>\n",
       "    </tr>\n",
       "    <tr>\n",
       "      <th>1</th>\n",
       "      <td>1</td>\n",
       "      <td>2</td>\n",
       "      <td>10.593103</td>\n",
       "      <td>0.940133</td>\n",
       "      <td>0.441379</td>\n",
       "      <td>0.981641</td>\n",
       "      <td>0.812525</td>\n",
       "      <td>0.883850</td>\n",
       "      <td>1</td>\n",
       "      <td>3</td>\n",
       "    </tr>\n",
       "    <tr>\n",
       "      <th>2</th>\n",
       "      <td>1</td>\n",
       "      <td>1</td>\n",
       "      <td>10.593103</td>\n",
       "      <td>0.926015</td>\n",
       "      <td>0.441379</td>\n",
       "      <td>0.981641</td>\n",
       "      <td>0.852217</td>\n",
       "      <td>0.857503</td>\n",
       "      <td>1</td>\n",
       "      <td>3</td>\n",
       "    </tr>\n",
       "    <tr>\n",
       "      <th>3</th>\n",
       "      <td>1</td>\n",
       "      <td>1</td>\n",
       "      <td>11.917241</td>\n",
       "      <td>0.940056</td>\n",
       "      <td>0.496552</td>\n",
       "      <td>0.979346</td>\n",
       "      <td>0.784559</td>\n",
       "      <td>0.883705</td>\n",
       "      <td>1</td>\n",
       "      <td>3</td>\n",
       "    </tr>\n",
       "    <tr>\n",
       "      <th>4</th>\n",
       "      <td>2</td>\n",
       "      <td>1</td>\n",
       "      <td>10.593103</td>\n",
       "      <td>0.917460</td>\n",
       "      <td>0.441379</td>\n",
       "      <td>0.981641</td>\n",
       "      <td>0.868838</td>\n",
       "      <td>0.841733</td>\n",
       "      <td>1</td>\n",
       "      <td>3</td>\n",
       "    </tr>\n",
       "  </tbody>\n",
       "</table>\n",
       "</div>"
      ],
      "text/plain": [
       "   lndbId  FindingId   contrast  dissimilarity    energy  homogeneity  \\\n",
       "0       1          1  14.565517       0.886692  0.606897     0.974756   \n",
       "1       1          2  10.593103       0.940133  0.441379     0.981641   \n",
       "2       1          1  10.593103       0.926015  0.441379     0.981641   \n",
       "3       1          1  11.917241       0.940056  0.496552     0.979346   \n",
       "4       2          1  10.593103       0.917460  0.441379     0.981641   \n",
       "\n",
       "   correlation       ASM  Nodule  state  \n",
       "0     0.866296  0.786223       1      3  \n",
       "1     0.812525  0.883850       1      3  \n",
       "2     0.852217  0.857503       1      3  \n",
       "3     0.784559  0.883705       1      3  \n",
       "4     0.868838  0.841733       1      3  "
      ]
     },
     "execution_count": 2,
     "metadata": {},
     "output_type": "execute_result"
    }
   ],
   "source": [
    "df = pd.read_csv('gabor_with_glcm_features.csv')\n",
    "\n",
    "list_1 = []\n",
    "length = len(df['Text'])\n",
    "array_2 = np.array(df['Text'])\n",
    "for i in range(0, length):\n",
    "    if array_2[i] < 2.3 :\n",
    "        list_1.append(1)\n",
    "    elif array_2[i] > 2.3 and array_2[i] < 3.6 :\n",
    "        list_1.append(2)\n",
    "    else:\n",
    "        list_1.append(3)\n",
    "        \n",
    "df['state'] = list_1\n",
    "df.drop(['Text','RadId'], axis = 1, inplace = True)\n",
    "df.head()\n"
   ]
  },
  {
   "cell_type": "code",
   "execution_count": 3,
   "metadata": {
    "collapsed": true
   },
   "outputs": [
    {
     "data": {
      "text/plain": [
       "0       3\n",
       "1       3\n",
       "2       3\n",
       "3       3\n",
       "4       3\n",
       "       ..\n",
       "1377    3\n",
       "1378    1\n",
       "1379    1\n",
       "1380    1\n",
       "1381    1\n",
       "Name: state, Length: 1382, dtype: int64"
      ]
     },
     "execution_count": 3,
     "metadata": {},
     "output_type": "execute_result"
    }
   ],
   "source": [
    "Y = df['state']\n",
    "Y"
   ]
  },
  {
   "cell_type": "code",
   "execution_count": 13,
   "metadata": {},
   "outputs": [
    {
     "data": {
      "text/html": [
       "<div>\n",
       "<style scoped>\n",
       "    .dataframe tbody tr th:only-of-type {\n",
       "        vertical-align: middle;\n",
       "    }\n",
       "\n",
       "    .dataframe tbody tr th {\n",
       "        vertical-align: top;\n",
       "    }\n",
       "\n",
       "    .dataframe thead th {\n",
       "        text-align: right;\n",
       "    }\n",
       "</style>\n",
       "<table border=\"1\" class=\"dataframe\">\n",
       "  <thead>\n",
       "    <tr style=\"text-align: right;\">\n",
       "      <th></th>\n",
       "      <th>contrast</th>\n",
       "      <th>correlation</th>\n",
       "    </tr>\n",
       "  </thead>\n",
       "  <tbody>\n",
       "    <tr>\n",
       "      <th>0</th>\n",
       "      <td>14.565517</td>\n",
       "      <td>0.866296</td>\n",
       "    </tr>\n",
       "    <tr>\n",
       "      <th>1</th>\n",
       "      <td>10.593103</td>\n",
       "      <td>0.812525</td>\n",
       "    </tr>\n",
       "    <tr>\n",
       "      <th>2</th>\n",
       "      <td>10.593103</td>\n",
       "      <td>0.852217</td>\n",
       "    </tr>\n",
       "    <tr>\n",
       "      <th>3</th>\n",
       "      <td>11.917241</td>\n",
       "      <td>0.784559</td>\n",
       "    </tr>\n",
       "    <tr>\n",
       "      <th>4</th>\n",
       "      <td>10.593103</td>\n",
       "      <td>0.868838</td>\n",
       "    </tr>\n",
       "  </tbody>\n",
       "</table>\n",
       "</div>"
      ],
      "text/plain": [
       "    contrast  correlation\n",
       "0  14.565517     0.866296\n",
       "1  10.593103     0.812525\n",
       "2  10.593103     0.852217\n",
       "3  11.917241     0.784559\n",
       "4  10.593103     0.868838"
      ]
     },
     "execution_count": 13,
     "metadata": {},
     "output_type": "execute_result"
    }
   ],
   "source": [
    "X = df.drop(['lndbId','FindingId','dissimilarity','energy','homogeneity','ASM','Nodule','state'], axis = 1)\n",
    "#X = df.drop(['Text'], axis = 1)\n",
    "#X = df[['contrast']['correlation']]\n",
    "X.head()\n"
   ]
  },
  {
   "cell_type": "code",
   "execution_count": 14,
   "metadata": {},
   "outputs": [],
   "source": [
    "X_train, X_test, y_train, y_test = train_test_split(X,Y,test_size=0.2,random_state = 42)\n",
    "#X_train.corr()\n"
   ]
  },
  {
   "cell_type": "code",
   "execution_count": 18,
   "metadata": {},
   "outputs": [
    {
     "name": "stderr",
     "output_type": "stream",
     "text": [
      "C:\\Users\\Ishan\\anaconda3\\lib\\site-packages\\pandas\\core\\frame.py:3997: SettingWithCopyWarning: \n",
      "A value is trying to be set on a copy of a slice from a DataFrame\n",
      "\n",
      "See the caveats in the documentation: https://pandas.pydata.org/pandas-docs/stable/user_guide/indexing.html#returning-a-view-versus-a-copy\n",
      "  errors=errors,\n"
     ]
    }
   ],
   "source": [
    "X_train.drop(['ASM','dissimilarity','state'], axis = 1, inplace = True)\n",
    "X_test.drop(['ASM','dissimilarity','state'], axis = 1, inplace = True)"
   ]
  },
  {
   "cell_type": "code",
   "execution_count": 15,
   "metadata": {},
   "outputs": [
    {
     "name": "stdout",
     "output_type": "stream",
     "text": [
      "Accuracy :  0.8989169675090253\n",
      "F1 score :  0.8722409840733869\n",
      "Confusion matrix : \n",
      " [[ 84   0   8]\n",
      " [  1   0  15]\n",
      " [  4   0 165]]\n"
     ]
    }
   ],
   "source": [
    "### KNN classifier\n",
    "\n",
    "knn = KNeighborsClassifier(n_neighbors=15)\n",
    "knn.fit(X_train, y_train)\n",
    "y_pred = knn.predict(X_test)\n",
    "accuracy = accuracy_score(y_test, y_pred)\n",
    "f_score = f1_score(y_test, y_pred, average='weighted')\n",
    "conf_mat = confusion_matrix(y_test, y_pred)\n",
    "print('Accuracy : ', accuracy)\n",
    "print('F1 score : ', f_score)\n",
    "print('Confusion matrix : \\n', conf_mat)"
   ]
  },
  {
   "cell_type": "code",
   "execution_count": 16,
   "metadata": {},
   "outputs": [
    {
     "name": "stdout",
     "output_type": "stream",
     "text": [
      "Accuracy :  0.7509025270758123\n",
      "F1 score :  0.7312284291296931\n",
      "Confusion matrix : \n",
      " [[ 86   0   6]\n",
      " [  4   0  12]\n",
      " [ 47   0 122]]\n"
     ]
    }
   ],
   "source": [
    "### SVM classifier\n",
    "\n",
    "from sklearn import svm\n",
    "clf = svm.SVC(kernel='poly')\n",
    "clf.fit(X_train, y_train)\n",
    "y_pred = clf.predict(X_test)\n",
    "accuracy = accuracy_score(y_test, y_pred)\n",
    "f_score = f1_score(y_test, y_pred, average='weighted')\n",
    "conf_mat = confusion_matrix(y_test, y_pred)\n",
    "print('Accuracy : ', accuracy)\n",
    "print('F1 score : ', f_score)\n",
    "print('Confusion matrix : \\n', conf_mat)"
   ]
  },
  {
   "cell_type": "code",
   "execution_count": 21,
   "metadata": {},
   "outputs": [
    {
     "name": "stdout",
     "output_type": "stream",
     "text": [
      "Accuracy :  0.9133574007220217\n",
      "F1 score :  0.8866922813309713\n",
      "Confusion matrix : \n",
      " [[ 84   0   8]\n",
      " [  0   0  16]\n",
      " [  0   0 169]]\n"
     ]
    },
    {
     "name": "stderr",
     "output_type": "stream",
     "text": [
      "C:\\Users\\Ishan\\anaconda3\\lib\\site-packages\\sklearn\\linear_model\\_logistic.py:940: ConvergenceWarning: lbfgs failed to converge (status=1):\n",
      "STOP: TOTAL NO. of ITERATIONS REACHED LIMIT.\n",
      "\n",
      "Increase the number of iterations (max_iter) or scale the data as shown in:\n",
      "    https://scikit-learn.org/stable/modules/preprocessing.html\n",
      "Please also refer to the documentation for alternative solver options:\n",
      "    https://scikit-learn.org/stable/modules/linear_model.html#logistic-regression\n",
      "  extra_warning_msg=_LOGISTIC_SOLVER_CONVERGENCE_MSG)\n"
     ]
    }
   ],
   "source": [
    "### logistic regression\n",
    "\n",
    "from sklearn.linear_model import LogisticRegression\n",
    "clf = LogisticRegression(random_state = 12).fit(X_train, y_train)\n",
    "y_pred = clf.predict(X_test)\n",
    "accuracy = accuracy_score(y_test, y_pred)\n",
    "f_score = f1_score(y_test, y_pred, average='weighted')\n",
    "conf_mat = confusion_matrix(y_test, y_pred)\n",
    "print('Accuracy : ', accuracy)\n",
    "print('F1 score : ', f_score)\n",
    "print('Confusion matrix : \\n', conf_mat)\n"
   ]
  },
  {
   "cell_type": "code",
   "execution_count": 17,
   "metadata": {},
   "outputs": [
    {
     "name": "stdout",
     "output_type": "stream",
     "text": [
      "Accuracy :  0.8808664259927798\n",
      "F1 score :  0.8607546471278786\n",
      "Confusion matrix : \n",
      " [[ 85   0   7]\n",
      " [  1   1  14]\n",
      " [ 10   1 158]]\n"
     ]
    }
   ],
   "source": [
    "### decision tree\n",
    "\n",
    "from sklearn import tree\n",
    "clf = tree.DecisionTreeClassifier()\n",
    "clf.fit(X_train, y_train)\n",
    "y_pred = clf.predict(X_test)\n",
    "y_pred\n",
    "accuracy = accuracy_score(y_test, y_pred)\n",
    "f_score = f1_score(y_test, y_pred, average='weighted')\n",
    "conf_mat = confusion_matrix(y_test, y_pred)\n",
    "print('Accuracy : ', accuracy)\n",
    "print('F1 score : ', f_score)\n",
    "print('Confusion matrix : \\n', conf_mat)"
   ]
  },
  {
   "cell_type": "code",
   "execution_count": 1,
   "metadata": {},
   "outputs": [
    {
     "ename": "NameError",
     "evalue": "name 'plt' is not defined",
     "output_type": "error",
     "traceback": [
      "\u001b[1;31m---------------------------------------------------------------------------\u001b[0m",
      "\u001b[1;31mNameError\u001b[0m                                 Traceback (most recent call last)",
      "\u001b[1;32m<ipython-input-1-f150ceb79056>\u001b[0m in \u001b[0;36m<module>\u001b[1;34m\u001b[0m\n\u001b[0;32m      1\u001b[0m \u001b[1;31m# Plotting a Bar Graph to compare the features\u001b[0m\u001b[1;33m\u001b[0m\u001b[1;33m\u001b[0m\u001b[1;33m\u001b[0m\u001b[0m\n\u001b[1;32m----> 2\u001b[1;33m \u001b[0mplt\u001b[0m\u001b[1;33m.\u001b[0m\u001b[0mbar\u001b[0m\u001b[1;33m(\u001b[0m\u001b[0mX_train\u001b[0m\u001b[1;33m.\u001b[0m\u001b[0mcolumns\u001b[0m\u001b[1;33m,\u001b[0m \u001b[0mfeature_importance_normalized\u001b[0m\u001b[1;33m)\u001b[0m\u001b[1;33m\u001b[0m\u001b[1;33m\u001b[0m\u001b[0m\n\u001b[0m\u001b[0;32m      3\u001b[0m \u001b[0mplt\u001b[0m\u001b[1;33m.\u001b[0m\u001b[0mxlabel\u001b[0m\u001b[1;33m(\u001b[0m\u001b[1;34m'Feature Labels'\u001b[0m\u001b[1;33m)\u001b[0m\u001b[1;33m\u001b[0m\u001b[1;33m\u001b[0m\u001b[0m\n\u001b[0;32m      4\u001b[0m \u001b[0mplt\u001b[0m\u001b[1;33m.\u001b[0m\u001b[0mylabel\u001b[0m\u001b[1;33m(\u001b[0m\u001b[1;34m'Feature Importances'\u001b[0m\u001b[1;33m)\u001b[0m\u001b[1;33m\u001b[0m\u001b[1;33m\u001b[0m\u001b[0m\n\u001b[0;32m      5\u001b[0m \u001b[0mplt\u001b[0m\u001b[1;33m.\u001b[0m\u001b[0mtitle\u001b[0m\u001b[1;33m(\u001b[0m\u001b[1;34m'Comparison of different Feature Importances'\u001b[0m\u001b[1;33m)\u001b[0m\u001b[1;33m\u001b[0m\u001b[1;33m\u001b[0m\u001b[0m\n",
      "\u001b[1;31mNameError\u001b[0m: name 'plt' is not defined"
     ]
    }
   ],
   "source": [
    "# Plotting a Bar Graph to compare the features\n",
    "plt.bar(X_train.columns, feature_importance_normalized) \n",
    "plt.xlabel('Feature Labels') \n",
    "plt.ylabel('Feature Importances') \n",
    "plt.title('Comparison of different Feature Importances') \n",
    "plt.show() "
   ]
  },
  {
   "cell_type": "code",
   "execution_count": null,
   "metadata": {},
   "outputs": [],
   "source": []
  }
 ],
 "metadata": {
  "kernelspec": {
   "display_name": "Python 3",
   "language": "python",
   "name": "python3"
  },
  "language_info": {
   "codemirror_mode": {
    "name": "ipython",
    "version": 3
   },
   "file_extension": ".py",
   "mimetype": "text/x-python",
   "name": "python",
   "nbconvert_exporter": "python",
   "pygments_lexer": "ipython3",
   "version": "3.7.1"
  }
 },
 "nbformat": 4,
 "nbformat_minor": 4
}

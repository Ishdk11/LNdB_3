{
 "cells": [
  {
   "cell_type": "code",
   "execution_count": 22,
   "metadata": {},
   "outputs": [],
   "source": [
    "import pandas as pd\n",
    "import numpy as np\n",
    "from sklearn.model_selection import train_test_split\n",
    "from sklearn.neighbors import KNeighborsClassifier\n",
    "from sklearn.metrics import accuracy_score, f1_score, confusion_matrix\n",
    "from sklearn.ensemble import ExtraTreesClassifier \n",
    "import matplotlib.pyplot as plt"
   ]
  },
  {
   "cell_type": "code",
   "execution_count": 23,
   "metadata": {},
   "outputs": [
    {
     "data": {
      "text/html": [
       "<div>\n",
       "<style scoped>\n",
       "    .dataframe tbody tr th:only-of-type {\n",
       "        vertical-align: middle;\n",
       "    }\n",
       "\n",
       "    .dataframe tbody tr th {\n",
       "        vertical-align: top;\n",
       "    }\n",
       "\n",
       "    .dataframe thead th {\n",
       "        text-align: right;\n",
       "    }\n",
       "</style>\n",
       "<table border=\"1\" class=\"dataframe\">\n",
       "  <thead>\n",
       "    <tr style=\"text-align: right;\">\n",
       "      <th></th>\n",
       "      <th>lndbId</th>\n",
       "      <th>FindingId</th>\n",
       "      <th>contrast</th>\n",
       "      <th>energy</th>\n",
       "      <th>dissimilarity</th>\n",
       "      <th>homogeneity</th>\n",
       "      <th>correlation</th>\n",
       "      <th>ASM</th>\n",
       "      <th>Nodule</th>\n",
       "      <th>state</th>\n",
       "    </tr>\n",
       "  </thead>\n",
       "  <tbody>\n",
       "    <tr>\n",
       "      <th>0</th>\n",
       "      <td>1</td>\n",
       "      <td>1</td>\n",
       "      <td>0.014103</td>\n",
       "      <td>0.934866</td>\n",
       "      <td>0.014103</td>\n",
       "      <td>0.992949</td>\n",
       "      <td>0.874222</td>\n",
       "      <td>0.873974</td>\n",
       "      <td>1</td>\n",
       "      <td>3</td>\n",
       "    </tr>\n",
       "    <tr>\n",
       "      <th>1</th>\n",
       "      <td>1</td>\n",
       "      <td>2</td>\n",
       "      <td>0.010256</td>\n",
       "      <td>0.966344</td>\n",
       "      <td>0.010256</td>\n",
       "      <td>0.994872</td>\n",
       "      <td>0.816942</td>\n",
       "      <td>0.933821</td>\n",
       "      <td>1</td>\n",
       "      <td>3</td>\n",
       "    </tr>\n",
       "    <tr>\n",
       "      <th>2</th>\n",
       "      <td>1</td>\n",
       "      <td>1</td>\n",
       "      <td>0.010256</td>\n",
       "      <td>0.958256</td>\n",
       "      <td>0.010256</td>\n",
       "      <td>0.994872</td>\n",
       "      <td>0.856743</td>\n",
       "      <td>0.918254</td>\n",
       "      <td>1</td>\n",
       "      <td>3</td>\n",
       "    </tr>\n",
       "    <tr>\n",
       "      <th>3</th>\n",
       "      <td>1</td>\n",
       "      <td>1</td>\n",
       "      <td>0.011538</td>\n",
       "      <td>0.966321</td>\n",
       "      <td>0.011538</td>\n",
       "      <td>0.994231</td>\n",
       "      <td>0.789518</td>\n",
       "      <td>0.933775</td>\n",
       "      <td>1</td>\n",
       "      <td>3</td>\n",
       "    </tr>\n",
       "    <tr>\n",
       "      <th>4</th>\n",
       "      <td>2</td>\n",
       "      <td>1</td>\n",
       "      <td>0.010256</td>\n",
       "      <td>0.953933</td>\n",
       "      <td>0.010256</td>\n",
       "      <td>0.994872</td>\n",
       "      <td>0.871572</td>\n",
       "      <td>0.909988</td>\n",
       "      <td>1</td>\n",
       "      <td>3</td>\n",
       "    </tr>\n",
       "  </tbody>\n",
       "</table>\n",
       "</div>"
      ],
      "text/plain": [
       "   lndbId  FindingId  contrast    energy  dissimilarity  homogeneity  \\\n",
       "0       1          1  0.014103  0.934866       0.014103     0.992949   \n",
       "1       1          2  0.010256  0.966344       0.010256     0.994872   \n",
       "2       1          1  0.010256  0.958256       0.010256     0.994872   \n",
       "3       1          1  0.011538  0.966321       0.011538     0.994231   \n",
       "4       2          1  0.010256  0.953933       0.010256     0.994872   \n",
       "\n",
       "   correlation       ASM  Nodule  state  \n",
       "0     0.874222  0.873974       1      3  \n",
       "1     0.816942  0.933821       1      3  \n",
       "2     0.856743  0.918254       1      3  \n",
       "3     0.789518  0.933775       1      3  \n",
       "4     0.871572  0.909988       1      3  "
      ]
     },
     "execution_count": 23,
     "metadata": {},
     "output_type": "execute_result"
    }
   ],
   "source": [
    "df = pd.read_csv('glcm_features.csv')\n",
    "list_1 = []\n",
    "length = len(df['Text'])\n",
    "array_2 = np.array(df['Text'])\n",
    "\n",
    "for i in range(0, length):\n",
    "    if array_2[i] < 2.3 :\n",
    "        list_1.append(1)\n",
    "    elif array_2[i] > 2.3 and array_2[i] < 3.6 :\n",
    "        list_1.append(2)\n",
    "    else:\n",
    "        list_1.append(3)\n",
    "        \n",
    "df['state'] = list_1\n",
    "#df.drop(['Text'], axis = 1, inplace = True)\n",
    "df.drop(['Text','RadId'], axis = 1, inplace = True)\n",
    "df.head()\n",
    "\n",
    "#df.corr()"
   ]
  },
  {
   "cell_type": "code",
   "execution_count": 24,
   "metadata": {},
   "outputs": [],
   "source": [
    "Y = df['state']"
   ]
  },
  {
   "cell_type": "code",
   "execution_count": 25,
   "metadata": {},
   "outputs": [],
   "source": [
    "X = df.drop(['lndbId','FindingId'], axis = 1)\n",
    "#X = df.drop(['Text'], axis = 1)\n",
    "#X = df[['Nodule']]\n",
    "\n"
   ]
  },
  {
   "cell_type": "code",
   "execution_count": null,
   "metadata": {},
   "outputs": [],
   "source": []
  },
  {
   "cell_type": "code",
   "execution_count": 26,
   "metadata": {},
   "outputs": [
    {
     "data": {
      "text/html": [
       "<div>\n",
       "<style scoped>\n",
       "    .dataframe tbody tr th:only-of-type {\n",
       "        vertical-align: middle;\n",
       "    }\n",
       "\n",
       "    .dataframe tbody tr th {\n",
       "        vertical-align: top;\n",
       "    }\n",
       "\n",
       "    .dataframe thead th {\n",
       "        text-align: right;\n",
       "    }\n",
       "</style>\n",
       "<table border=\"1\" class=\"dataframe\">\n",
       "  <thead>\n",
       "    <tr style=\"text-align: right;\">\n",
       "      <th></th>\n",
       "      <th>contrast</th>\n",
       "      <th>energy</th>\n",
       "      <th>dissimilarity</th>\n",
       "      <th>homogeneity</th>\n",
       "      <th>correlation</th>\n",
       "      <th>ASM</th>\n",
       "      <th>Nodule</th>\n",
       "      <th>state</th>\n",
       "    </tr>\n",
       "  </thead>\n",
       "  <tbody>\n",
       "    <tr>\n",
       "      <th>contrast</th>\n",
       "      <td>1.000000</td>\n",
       "      <td>-0.920242</td>\n",
       "      <td>1.000000</td>\n",
       "      <td>-1.000000</td>\n",
       "      <td>0.472398</td>\n",
       "      <td>-0.934281</td>\n",
       "      <td>0.542278</td>\n",
       "      <td>0.439673</td>\n",
       "    </tr>\n",
       "    <tr>\n",
       "      <th>energy</th>\n",
       "      <td>-0.920242</td>\n",
       "      <td>1.000000</td>\n",
       "      <td>-0.920242</td>\n",
       "      <td>0.920242</td>\n",
       "      <td>-0.366826</td>\n",
       "      <td>0.998206</td>\n",
       "      <td>-0.331631</td>\n",
       "      <td>-0.245678</td>\n",
       "    </tr>\n",
       "    <tr>\n",
       "      <th>dissimilarity</th>\n",
       "      <td>1.000000</td>\n",
       "      <td>-0.920242</td>\n",
       "      <td>1.000000</td>\n",
       "      <td>-1.000000</td>\n",
       "      <td>0.472398</td>\n",
       "      <td>-0.934281</td>\n",
       "      <td>0.542278</td>\n",
       "      <td>0.439673</td>\n",
       "    </tr>\n",
       "    <tr>\n",
       "      <th>homogeneity</th>\n",
       "      <td>-1.000000</td>\n",
       "      <td>0.920242</td>\n",
       "      <td>-1.000000</td>\n",
       "      <td>1.000000</td>\n",
       "      <td>-0.472398</td>\n",
       "      <td>0.934281</td>\n",
       "      <td>-0.542278</td>\n",
       "      <td>-0.439673</td>\n",
       "    </tr>\n",
       "    <tr>\n",
       "      <th>correlation</th>\n",
       "      <td>0.472398</td>\n",
       "      <td>-0.366826</td>\n",
       "      <td>0.472398</td>\n",
       "      <td>-0.472398</td>\n",
       "      <td>1.000000</td>\n",
       "      <td>-0.388267</td>\n",
       "      <td>0.621231</td>\n",
       "      <td>0.538122</td>\n",
       "    </tr>\n",
       "    <tr>\n",
       "      <th>ASM</th>\n",
       "      <td>-0.934281</td>\n",
       "      <td>0.998206</td>\n",
       "      <td>-0.934281</td>\n",
       "      <td>0.934281</td>\n",
       "      <td>-0.388267</td>\n",
       "      <td>1.000000</td>\n",
       "      <td>-0.355669</td>\n",
       "      <td>-0.265101</td>\n",
       "    </tr>\n",
       "    <tr>\n",
       "      <th>Nodule</th>\n",
       "      <td>0.542278</td>\n",
       "      <td>-0.331631</td>\n",
       "      <td>0.542278</td>\n",
       "      <td>-0.542278</td>\n",
       "      <td>0.621231</td>\n",
       "      <td>-0.355669</td>\n",
       "      <td>1.000000</td>\n",
       "      <td>0.901882</td>\n",
       "    </tr>\n",
       "    <tr>\n",
       "      <th>state</th>\n",
       "      <td>0.439673</td>\n",
       "      <td>-0.245678</td>\n",
       "      <td>0.439673</td>\n",
       "      <td>-0.439673</td>\n",
       "      <td>0.538122</td>\n",
       "      <td>-0.265101</td>\n",
       "      <td>0.901882</td>\n",
       "      <td>1.000000</td>\n",
       "    </tr>\n",
       "  </tbody>\n",
       "</table>\n",
       "</div>"
      ],
      "text/plain": [
       "               contrast    energy  dissimilarity  homogeneity  correlation  \\\n",
       "contrast       1.000000 -0.920242       1.000000    -1.000000     0.472398   \n",
       "energy        -0.920242  1.000000      -0.920242     0.920242    -0.366826   \n",
       "dissimilarity  1.000000 -0.920242       1.000000    -1.000000     0.472398   \n",
       "homogeneity   -1.000000  0.920242      -1.000000     1.000000    -0.472398   \n",
       "correlation    0.472398 -0.366826       0.472398    -0.472398     1.000000   \n",
       "ASM           -0.934281  0.998206      -0.934281     0.934281    -0.388267   \n",
       "Nodule         0.542278 -0.331631       0.542278    -0.542278     0.621231   \n",
       "state          0.439673 -0.245678       0.439673    -0.439673     0.538122   \n",
       "\n",
       "                    ASM    Nodule     state  \n",
       "contrast      -0.934281  0.542278  0.439673  \n",
       "energy         0.998206 -0.331631 -0.245678  \n",
       "dissimilarity -0.934281  0.542278  0.439673  \n",
       "homogeneity    0.934281 -0.542278 -0.439673  \n",
       "correlation   -0.388267  0.621231  0.538122  \n",
       "ASM            1.000000 -0.355669 -0.265101  \n",
       "Nodule        -0.355669  1.000000  0.901882  \n",
       "state         -0.265101  0.901882  1.000000  "
      ]
     },
     "execution_count": 26,
     "metadata": {},
     "output_type": "execute_result"
    }
   ],
   "source": [
    "X_train, X_test, y_train, y_test = train_test_split(X,Y,test_size=0.2,random_state = 42)\n",
    "X_train.corr()\n"
   ]
  },
  {
   "cell_type": "code",
   "execution_count": 27,
   "metadata": {},
   "outputs": [
    {
     "name": "stderr",
     "output_type": "stream",
     "text": [
      "C:\\Users\\Ishan\\anaconda3\\lib\\site-packages\\pandas\\core\\frame.py:3997: SettingWithCopyWarning: \n",
      "A value is trying to be set on a copy of a slice from a DataFrame\n",
      "\n",
      "See the caveats in the documentation: https://pandas.pydata.org/pandas-docs/stable/user_guide/indexing.html#returning-a-view-versus-a-copy\n",
      "  errors=errors,\n"
     ]
    }
   ],
   "source": [
    "X_train.drop(['ASM','energy','state','dissimilarity','contrast'], axis = 1, inplace = True)\n",
    "X_test.drop(['ASM','energy','state','dissimilarity','contrast'], axis = 1, inplace = True)"
   ]
  },
  {
   "cell_type": "code",
   "execution_count": null,
   "metadata": {},
   "outputs": [],
   "source": [
    "\n"
   ]
  },
  {
   "cell_type": "code",
   "execution_count": 28,
   "metadata": {},
   "outputs": [
    {
     "name": "stdout",
     "output_type": "stream",
     "text": [
      "Accuracy :  0.9025270758122743\n",
      "F1 score :  0.875942463207215\n",
      "Confusion matrix : \n",
      " [[ 84   0   8]\n",
      " [  0   0  16]\n",
      " [  3   0 166]]\n"
     ]
    }
   ],
   "source": [
    "### KNN classifier\n",
    "\n",
    "knn = KNeighborsClassifier(n_neighbors=15)\n",
    "knn.fit(X_train, y_train)\n",
    "y_pred = knn.predict(X_test)\n",
    "y_pred\n",
    "accuracy = accuracy_score(y_test, y_pred)\n",
    "f_score = f1_score(y_test, y_pred, average='weighted')\n",
    "conf_mat = confusion_matrix(y_test, y_pred)\n",
    "print('Accuracy : ', accuracy)\n",
    "print('F1 score : ', f_score)\n",
    "print('Confusion matrix : \\n', conf_mat)\n"
   ]
  },
  {
   "cell_type": "code",
   "execution_count": 29,
   "metadata": {},
   "outputs": [
    {
     "name": "stdout",
     "output_type": "stream",
     "text": [
      "Accuracy :  0.9133574007220217\n",
      "F1 score :  0.8866922813309713\n",
      "Confusion matrix : \n",
      " [[ 84   0   8]\n",
      " [  0   0  16]\n",
      " [  0   0 169]]\n"
     ]
    }
   ],
   "source": [
    "### SVM classifier\n",
    "\n",
    "from sklearn import svm\n",
    "clf = svm.SVC(kernel='poly')\n",
    "clf.fit(X_train, y_train)\n",
    "y_pred = clf.predict(X_test)\n",
    "accuracy = accuracy_score(y_test, y_pred)\n",
    "f_score = f1_score(y_test, y_pred, average='weighted')\n",
    "conf_mat = confusion_matrix(y_test, y_pred)\n",
    "print('Accuracy : ', accuracy)\n",
    "print('F1 score : ', f_score)\n",
    "print('Confusion matrix : \\n', conf_mat)\n"
   ]
  },
  {
   "cell_type": "code",
   "execution_count": 30,
   "metadata": {},
   "outputs": [
    {
     "name": "stdout",
     "output_type": "stream",
     "text": [
      "Accuracy :  0.9133574007220217\n",
      "F1 score :  0.8866922813309713\n",
      "Confusion matrix : \n",
      " [[ 84   0   8]\n",
      " [  0   0  16]\n",
      " [  0   0 169]]\n"
     ]
    }
   ],
   "source": [
    "### logistic regression\n",
    "\n",
    "from sklearn.linear_model import LogisticRegression\n",
    "clf = LogisticRegression(random_state = 12).fit(X_train, y_train)\n",
    "y_pred = clf.predict(X_test)\n",
    "accuracy = accuracy_score(y_test, y_pred)\n",
    "f_score = f1_score(y_test, y_pred, average='weighted')\n",
    "conf_mat = confusion_matrix(y_test, y_pred)\n",
    "print('Accuracy : ', accuracy)\n",
    "print('F1 score : ', f_score)\n",
    "print('Confusion matrix : \\n', conf_mat)"
   ]
  },
  {
   "cell_type": "code",
   "execution_count": 31,
   "metadata": {},
   "outputs": [
    {
     "name": "stdout",
     "output_type": "stream",
     "text": [
      "Accuracy :  0.8844765342960289\n",
      "F1 score :  0.8655551289301103\n",
      "Confusion matrix : \n",
      " [[ 85   1   6]\n",
      " [  0   1  15]\n",
      " [  9   1 159]]\n"
     ]
    }
   ],
   "source": [
    "### decision tree\n",
    "\n",
    "from sklearn import tree\n",
    "clf = tree.DecisionTreeClassifier()\n",
    "clf.fit(X_train, y_train)\n",
    "y_pred = clf.predict(X_test)\n",
    "y_pred\n",
    "accuracy = accuracy_score(y_test, y_pred)\n",
    "f_score = f1_score(y_test, y_pred, average='weighted')\n",
    "conf_mat = confusion_matrix(y_test, y_pred)\n",
    "print('Accuracy : ', accuracy)\n",
    "print('F1 score : ', f_score)\n",
    "print('Confusion matrix : \\n', conf_mat)"
   ]
  },
  {
   "cell_type": "code",
   "execution_count": 32,
   "metadata": {},
   "outputs": [
    {
     "name": "stdout",
     "output_type": "stream",
     "text": [
      "Accuracy :  0.9097472924187726\n",
      "F1 score :  0.8848901830691285\n",
      "Confusion matrix : \n",
      " [[ 84   0   8]\n",
      " [  0   0  16]\n",
      " [  0   1 168]]\n"
     ]
    }
   ],
   "source": [
    "### Naive baye's\n",
    "\n",
    "from sklearn.naive_bayes import GaussianNB\n",
    "gnb = GaussianNB()\n",
    "y_pred = gnb.fit(X_train, y_train).predict(X_test)\n",
    "accuracy = accuracy_score(y_test, y_pred)\n",
    "f_score = f1_score(y_test, y_pred, average='weighted')\n",
    "conf_mat = confusion_matrix(y_test, y_pred)\n",
    "print('Accuracy : ', accuracy)\n",
    "print('F1 score : ', f_score)\n",
    "print('Confusion matrix : \\n', conf_mat)"
   ]
  },
  {
   "cell_type": "code",
   "execution_count": 33,
   "metadata": {},
   "outputs": [
    {
     "name": "stdout",
     "output_type": "stream",
     "text": [
      "Accuracy :  0.9133574007220217\n",
      "F1 score :  0.8866922813309713\n",
      "Confusion matrix : \n",
      " [[ 84   0   8]\n",
      " [  0   0  16]\n",
      " [  0   0 169]]\n"
     ]
    }
   ],
   "source": [
    "### Random forest\n",
    "from sklearn.ensemble import RandomForestClassifier\n",
    "clf = RandomForestClassifier(max_depth=2, random_state=0)\n",
    "clf.fit(X_train, y_train)\n",
    "y_pred = clf.predict(X_test)\n",
    "y_pred\n",
    "accuracy = accuracy_score(y_test, y_pred)\n",
    "f_score = f1_score(y_test, y_pred, average='weighted')\n",
    "conf_mat = confusion_matrix(y_test, y_pred)\n",
    "print('Accuracy : ', accuracy)\n",
    "print('F1 score : ', f_score)\n",
    "print('Confusion matrix : \\n', conf_mat)"
   ]
  },
  {
   "cell_type": "code",
   "execution_count": 16,
   "metadata": {},
   "outputs": [],
   "source": [
    "# Building the model \n",
    "extra_tree_forest = ExtraTreesClassifier(n_estimators = 5, \n",
    "                                        criterion ='entropy', max_features = 2) \n",
    "  \n",
    "# Training the model \n",
    "extra_tree_forest.fit(X_train, y_train) \n",
    "  \n",
    "# Computing the importance of each feature \n",
    "feature_importance = extra_tree_forest.feature_importances_ \n",
    "  \n",
    "# Normalizing the individual importances \n",
    "feature_importance_normalized = np.std([tree.feature_importances_ for tree in \n",
    "                                        extra_tree_forest.estimators_], \n",
    "                                        axis = 0) "
   ]
  },
  {
   "cell_type": "code",
   "execution_count": 19,
   "metadata": {},
   "outputs": [
    {
     "data": {
      "image/png": "[encoded data removed]",
      "text/plain": [
       "<Figure size 432x288 with 1 Axes>"
      ]
     },
     "metadata": {
      "needs_background": "light"
     },
     "output_type": "display_data"
    }
   ],
   "source": [
    "# Plotting a Bar Graph to compare the features\n",
    "plt.bar(X_train.columns, feature_importance_normalized) \n",
    "plt.xlabel('Feature Labels') \n",
    "plt.ylabel('Feature Importances') \n",
    "plt.title('Comparison of different Feature Importances') \n",
    "plt.show() "
   ]
  },
  {
   "cell_type": "code",
   "execution_count": null,
   "metadata": {},
   "outputs": [],
   "source": []
  }
 ],
 "metadata": {
  "kernelspec": {
   "display_name": "Python 3",
   "language": "python",
   "name": "python3"
  },
  "language_info": {
   "codemirror_mode": {
    "name": "ipython",
    "version": 3
   },
   "file_extension": ".py",
   "mimetype": "text/x-python",
   "name": "python",
   "nbconvert_exporter": "python",
   "pygments_lexer": "ipython3",
   "version": "3.7.1"
  }
 },
 "nbformat": 4,
 "nbformat_minor": 4
}
